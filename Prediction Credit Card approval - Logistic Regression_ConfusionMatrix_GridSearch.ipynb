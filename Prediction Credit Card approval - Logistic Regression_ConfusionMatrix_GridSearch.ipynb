{
 "cells": [
  {
   "cell_type": "markdown",
   "metadata": {},
   "source": [
    "# Importing Packages"
   ]
  },
  {
   "cell_type": "code",
   "execution_count": 145,
   "metadata": {},
   "outputs": [],
   "source": [
    "import pandas as pd\n",
    "import numpy as np"
   ]
  },
  {
   "cell_type": "markdown",
   "metadata": {},
   "source": [
    "# Viewing the Data"
   ]
  },
  {
   "cell_type": "code",
   "execution_count": 133,
   "metadata": {},
   "outputs": [
    {
     "name": "stdout",
     "output_type": "stream",
     "text": [
      "  Gender    Age   Debt Married BankCustomer EducationLevel Ethnicity  \\\n",
      "0      b  30.83  0.000       u            g              w         v   \n",
      "1      a  58.67  4.460       u            g              q         h   \n",
      "2      a  24.50  0.500       u            g              q         h   \n",
      "3      b  27.83  1.540       u            g              w         v   \n",
      "4      b  20.17  5.625       u            g              w         v   \n",
      "\n",
      "   YearsEmployed PriorDefault Employed  CreditScore DriversLicense Citizen  \\\n",
      "0           1.25            t        t            1              f       g   \n",
      "1           3.04            t        t            6              f       g   \n",
      "2           1.50            t        f            0              f       g   \n",
      "3           3.75            t        t            5              t       g   \n",
      "4           1.71            t        f            0              f       s   \n",
      "\n",
      "  ZipCode  Income ApprovalStatus  \n",
      "0   00202       0              +  \n",
      "1   00043     560              +  \n",
      "2   00280     824              +  \n",
      "3   00100       3              +  \n",
      "4   00120       0              +  \n",
      "             Debt  YearsEmployed  CreditScore         Income\n",
      "count  690.000000     690.000000    690.00000     690.000000\n",
      "mean     4.758725       2.223406      2.40000    1017.385507\n",
      "std      4.978163       3.346513      4.86294    5210.102598\n",
      "min      0.000000       0.000000      0.00000       0.000000\n",
      "25%      1.000000       0.165000      0.00000       0.000000\n",
      "50%      2.750000       1.000000      0.00000       5.000000\n",
      "75%      7.207500       2.625000      3.00000     395.500000\n",
      "max     28.000000      28.500000     67.00000  100000.000000\n",
      "<class 'pandas.core.frame.DataFrame'>\n",
      "RangeIndex: 690 entries, 0 to 689\n",
      "Data columns (total 16 columns):\n",
      " #   Column          Non-Null Count  Dtype  \n",
      "---  ------          --------------  -----  \n",
      " 0   Gender          690 non-null    object \n",
      " 1   Age             690 non-null    object \n",
      " 2   Debt            690 non-null    float64\n",
      " 3   Married         690 non-null    object \n",
      " 4   BankCustomer    690 non-null    object \n",
      " 5   EducationLevel  690 non-null    object \n",
      " 6   Ethnicity       690 non-null    object \n",
      " 7   YearsEmployed   690 non-null    float64\n",
      " 8   PriorDefault    690 non-null    object \n",
      " 9   Employed        690 non-null    object \n",
      " 10  CreditScore     690 non-null    int64  \n",
      " 11  DriversLicense  690 non-null    object \n",
      " 12  Citizen         690 non-null    object \n",
      " 13  ZipCode         690 non-null    object \n",
      " 14  Income          690 non-null    int64  \n",
      " 15  ApprovalStatus  690 non-null    object \n",
      "dtypes: float64(2), int64(2), object(12)\n",
      "memory usage: 86.4+ KB\n",
      "None\n",
      "b    468\n",
      "a    210\n",
      "?     12\n",
      "Name: Gender, dtype: int64\n",
      "?        12\n",
      "22.67     9\n",
      "20.42     7\n",
      "19.17     6\n",
      "22.50     6\n",
      "         ..\n",
      "57.42     1\n",
      "58.42     1\n",
      "32.92     1\n",
      "39.42     1\n",
      "57.58     1\n",
      "Name: Age, Length: 350, dtype: int64\n",
      "u    519\n",
      "y    163\n",
      "?      6\n",
      "l      2\n",
      "Name: Married, dtype: int64\n",
      "g     519\n",
      "p     163\n",
      "?       6\n",
      "gg      2\n",
      "Name: BankCustomer, dtype: int64\n",
      "c     137\n",
      "q      78\n",
      "w      64\n",
      "i      59\n",
      "aa     54\n",
      "ff     53\n",
      "k      51\n",
      "cc     41\n",
      "x      38\n",
      "m      38\n",
      "d      30\n",
      "e      25\n",
      "j      10\n",
      "?       9\n",
      "r       3\n",
      "Name: EducationLevel, dtype: int64\n",
      "v     399\n",
      "h     138\n",
      "bb     59\n",
      "ff     57\n",
      "?       9\n",
      "z       8\n",
      "j       8\n",
      "dd      6\n",
      "n       4\n",
      "o       2\n",
      "Name: Ethnicity, dtype: int64\n",
      "t    361\n",
      "f    329\n",
      "Name: PriorDefault, dtype: int64\n",
      "f    395\n",
      "t    295\n",
      "Name: Employed, dtype: int64\n",
      "f    374\n",
      "t    316\n",
      "Name: DriversLicense, dtype: int64\n",
      "g    625\n",
      "s     57\n",
      "p      8\n",
      "Name: Citizen, dtype: int64\n",
      "00000    132\n",
      "00120     35\n",
      "00200     35\n",
      "00160     34\n",
      "00080     30\n",
      "        ... \n",
      "00075      1\n",
      "00174      1\n",
      "00416      1\n",
      "00450      1\n",
      "00515      1\n",
      "Name: ZipCode, Length: 171, dtype: int64\n",
      "-    383\n",
      "+    307\n",
      "Name: ApprovalStatus, dtype: int64\n"
     ]
    }
   ],
   "source": [
    "df = pd.read_csv('~/Desktop/CC_approvals/cc_approvals.csv', header = None)\n",
    "df.columns= [\"Gender\", 'Age','Debt','Married','BankCustomer', 'EducationLevel','Ethnicity','YearsEmployed', 'PriorDefault', 'Employed', 'CreditScore', 'DriversLicense', 'Citizen', 'ZipCode', 'Income',  'ApprovalStatus']\n",
    "print(df.head())\n",
    "print(df.describe())\n",
    "print(df.info())\n",
    "for x in df.columns:\n",
    "    if df[x].dtype != 'float64'and df[x].dtype != 'int64':\n",
    "        print(df[x].value_counts())\n"
   ]
  },
  {
   "cell_type": "markdown",
   "metadata": {},
   "source": [
    "# Cleanning the Data"
   ]
  },
  {
   "cell_type": "code",
   "execution_count": 134,
   "metadata": {},
   "outputs": [],
   "source": [
    "df = df.replace({\"?\": None})\n",
    "df = df.dropna()\n",
    "df = df.drop(['Ethnicity','DriversLicense'], axis =1)\n",
    "df['ApprovalStatus'] = df['ApprovalStatus'].replace({\"+\":1,\"-\":0})\n",
    "df['ApprovalStatus'] = df['ApprovalStatus'].astype('category')\n",
    "df['ZipCode'] = df['ZipCode'].astype('category')\n",
    "df['Age'] = df['Age'].astype('float64')\n"
   ]
  },
  {
   "cell_type": "markdown",
   "metadata": {},
   "source": [
    "# Preprocessing the Data"
   ]
  },
  {
   "cell_type": "code",
   "execution_count": 135,
   "metadata": {},
   "outputs": [],
   "source": [
    "## we will be converting all the non-numeric values into numeric ones. \n",
    "##We do this because not only it results in a faster computation but also many machine learning models,\n",
    "##and especially the ones developed using scikit-learn, require the data to be in a strictly numeric format. \n",
    "##We will do this by using a technique called label encoding."
   ]
  },
  {
   "cell_type": "markdown",
   "metadata": {},
   "source": [
    "## Encoding "
   ]
  },
  {
   "cell_type": "code",
   "execution_count": 136,
   "metadata": {},
   "outputs": [],
   "source": [
    "from sklearn.preprocessing import LabelEncoder\n",
    "le = LabelEncoder()\n",
    "# Iterate over all the values of each column and extract their dtypes\n",
    "for col in df.columns:\n",
    "    if df[col].dtype=='object':\n",
    "        df_dict = {k:i for i, k in enumerate(df[col].unique(), 0)} \n",
    "    # Use LabelEncoder to do the numeric transformation\n",
    "        df.loc[:,col]=df.loc[:,col].map(df_dict)\n",
    "        "
   ]
  },
  {
   "cell_type": "markdown",
   "metadata": {},
   "source": [
    "## Scaling"
   ]
  },
  {
   "cell_type": "code",
   "execution_count": 137,
   "metadata": {},
   "outputs": [],
   "source": [
    "from sklearn.preprocessing import MinMaxScaler\n",
    "X,y = df.iloc[:,0:13] , df.iloc[:,13]\n",
    "scaler = MinMaxScaler(feature_range=(0, 1))\n",
    "rescaledX = scaler.fit_transform(X)"
   ]
  },
  {
   "cell_type": "code",
   "execution_count": 138,
   "metadata": {},
   "outputs": [],
   "source": [
    "from sklearn.model_selection import train_test_split\n",
    "X_train, X_test, y_train, y_test = train_test_split(rescaledX,\n",
    "                                y,\n",
    "                                test_size=0.20,\n",
    "                                random_state=123)"
   ]
  },
  {
   "cell_type": "markdown",
   "metadata": {},
   "source": [
    "## Training with Logistic Regression"
   ]
  },
  {
   "cell_type": "code",
   "execution_count": 139,
   "metadata": {},
   "outputs": [
    {
     "data": {
      "text/plain": [
       "LogisticRegression()"
      ]
     },
     "execution_count": 139,
     "metadata": {},
     "output_type": "execute_result"
    }
   ],
   "source": [
    "from sklearn.linear_model import LogisticRegression\n",
    "logreg = LogisticRegression()\n",
    "logreg.fit(X_train,y_train)"
   ]
  },
  {
   "cell_type": "markdown",
   "metadata": {},
   "source": [
    "## Predicting"
   ]
  },
  {
   "cell_type": "code",
   "execution_count": 140,
   "metadata": {},
   "outputs": [],
   "source": [
    "from sklearn.metrics import confusion_matrix\n",
    "y_pred = logreg.predict(X_test)"
   ]
  },
  {
   "cell_type": "markdown",
   "metadata": {},
   "source": [
    "# Evaluating"
   ]
  },
  {
   "cell_type": "code",
   "execution_count": 141,
   "metadata": {},
   "outputs": [
    {
     "name": "stdout",
     "output_type": "stream",
     "text": [
      "Accuracy of logistic regression classifier:  0.8854961832061069\n",
      "Our model was pretty good! It was able to yield an accuracy score of almost 88%.\n"
     ]
    }
   ],
   "source": [
    "# Get the accuracy score of logreg model and print it\n",
    "print(\"Accuracy of logistic regression classifier: \", logreg.score(X_test,y_test))\n",
    "print('Our model was pretty good! It was able to yield an accuracy score of almost 88%.')"
   ]
  },
  {
   "cell_type": "code",
   "execution_count": 144,
   "metadata": {},
   "outputs": [
    {
     "data": {
      "text/plain": [
       "array([[61, 10],\n",
       "       [ 5, 55]])"
      ]
     },
     "execution_count": 144,
     "metadata": {},
     "output_type": "execute_result"
    }
   ],
   "source": [
    "##For the confusion matrix, \n",
    "##the first element of the of the first row of the confusion matrix denotes the true negatives\n",
    "##meaning the number of negative instances (denied applications) predicted by the model correctly. \n",
    "##the last element of the second row of the confusion matrix denotes the true positives\n",
    "##meaning the number of positive instances (approved applications) predicted by the model correctly.\n",
    "confusion_matrix(y_test,y_pred)"
   ]
  },
  {
   "cell_type": "markdown",
   "metadata": {},
   "source": [
    "class sklearn.linear_model.LogisticRegression(penalty='l2', *, dual=False, \n",
    "tol=0.0001, C=1.0, fit_intercept=True, intercept_scaling=1, class_weight=None, random_state=None, \n",
    "solver='lbfgs', max_iter=100, multi_class='auto', verbose=0, warm_start=False, n_jobs=None, l1_ratio=None)\n",
    "\n",
    "\n",
    "https://scikit-learn.org/stable/modules/generated/sklearn.linear_model.LogisticRegression.html\n",
    "    "
   ]
  },
  {
   "cell_type": "markdown",
   "metadata": {},
   "source": [
    "## Improving the regression parameters"
   ]
  },
  {
   "cell_type": "code",
   "execution_count": 143,
   "metadata": {},
   "outputs": [
    {
     "name": "stdout",
     "output_type": "stream",
     "text": [
      "{'tol': [0.01, 0.001, 0.0001], 'max_iter': [100, 150, 200]}\n",
      "Best: 0.859107 using {'max_iter': 100, 'tol': 0.01}\n"
     ]
    }
   ],
   "source": [
    "from sklearn.model_selection import GridSearchCV\n",
    "\n",
    "# Define the grid of values for tol and max_iter\n",
    "tol = [0.01,0.001,0.0001]\n",
    "max_iter = [100,150,200]\n",
    "\n",
    "## tol : Tolerance for stopping criteria.\n",
    "## mar_iter : Maximum number of iterations taken for the solvers to converge.\n",
    "\n",
    "# Create a dictionary where tol and max_iter are keys and the lists of their values are corresponding values\n",
    "param_grid = dict(tol=tol, max_iter=max_iter)\n",
    "\n",
    "print(param_grid)\n",
    "\n",
    "# Instantiate GridSearchCV with the required parameters\n",
    "grid_model = GridSearchCV(estimator=logreg, param_grid=param_grid, cv=5)\n",
    "\n",
    "##cv : int, cross-validation generator or an iterable, default=None\n",
    "##Determines the cross-validation splitting strategy. Possible inputs for cv are:\n",
    "\n",
    "\n",
    "# Fit data to grid_model\n",
    "grid_model_result = grid_model.fit(rescaledX, y)\n",
    "\n",
    "# Summarize results\n",
    "best_score, best_params = grid_model_result.best_score_ , grid_model_result.best_params_\n",
    "print(\"Best: %f using %s\" % (best_score, best_params))"
   ]
  },
  {
   "cell_type": "code",
   "execution_count": null,
   "metadata": {},
   "outputs": [],
   "source": [
    "## Traning with "
   ]
  },
  {
   "cell_type": "code",
   "execution_count": null,
   "metadata": {},
   "outputs": [],
   "source": []
  }
 ],
 "metadata": {
  "kernelspec": {
   "display_name": "Python 3",
   "language": "python",
   "name": "python3"
  },
  "language_info": {
   "codemirror_mode": {
    "name": "ipython",
    "version": 3
   },
   "file_extension": ".py",
   "mimetype": "text/x-python",
   "name": "python",
   "nbconvert_exporter": "python",
   "pygments_lexer": "ipython3",
   "version": "3.8.3"
  }
 },
 "nbformat": 4,
 "nbformat_minor": 4
}
